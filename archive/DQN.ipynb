{
 "cells": [
  {
   "cell_type": "markdown",
   "id": "3784cb30-4b08-4183-a23d-9f04b9572e58",
   "metadata": {},
   "source": [
    "# Important information from the paper:\n",
    "\n",
    "Q-network is the function approximator, which is used to approximate the Q-function that maps the station-action pairs to their values.\n",
    "\n",
    "To successfully train the Q-function, we want to minimize the following loss:\n",
    "\n",
    "$$\n",
    "L_i(\\theta_i) = E_{s, a \\sim \\rho(\\cdot)}\\left[(y_i - Q(s, a; \\theta_i))^2\\right]\n",
    "$$\n",
    "\n",
    "Where $y_i$\n",
    "\n",
    "$$\n",
    "y_i = E_{s, a \\sim \\rho(\\cdot); s'\\sim \\text{Env}}\\left[\\left(r + \\gamma \\max_{a'} Q(s', a'; \\theta_{i-1}) - Q(s, a; \\theta_i)\\right) \\nabla_{\\theta_i} Q(s, a; \\theta_i) \\right]\n",
    "$$\n"
   ]
  },
  {
   "cell_type": "markdown",
   "id": "a84f0512-9b36-4086-8f10-fd61f545690d",
   "metadata": {},
   "source": [
    "![Q-learning-algo.png](Q-learning-algo.png)"
   ]
  },
  {
   "cell_type": "code",
   "execution_count": 2,
   "id": "d7c65a7a-cb24-4318-a30f-f1bc56cfac34",
   "metadata": {},
   "outputs": [],
   "source": [
    "import gymnasium as gym\n",
    "import torch\n",
    "import torch.nn as nn \n",
    "import torch.nn.functional as F\n",
    "import torch.optim as optim\n",
    "import numpy as np\n",
    "import matplotlib.pyplot as plt"
   ]
  },
  {
   "cell_type": "code",
   "execution_count": 3,
   "id": "d1eb6070-15d0-476d-bb67-811a3ceb4d9c",
   "metadata": {},
   "outputs": [],
   "source": [
    "def create_q_network(input_dim, n_layers, n_hidden, out_dim):\n",
    "    dimensions = [input_dim] + n_layers * [n_hidden]\n",
    "\n",
    "    layers = []\n",
    "    for indim, outdim in zip(dimensions[:-1], dimensions[1:]):\n",
    "        layers += [nn.Linear(indim, outdim), nn.ReLU()]\n",
    "    layers += [nn.Linear(n_hidden, out_dim)]\n",
    "    \n",
    "    return nn.Sequential(*layers)"
   ]
  },
  {
   "cell_type": "code",
   "execution_count": 4,
   "id": "e7f6827f-4f7c-4b87-9ad4-e1971627528b",
   "metadata": {},
   "outputs": [],
   "source": [
    "from collections import deque\n",
    "\n",
    "class ReplayMemory:\n",
    "    def __init__(self, max_len, batch_size=1):\n",
    "        self.memory = deque([], maxlen=max_len)\n",
    "        self.batch_size = batch_size\n",
    "    def sample(self):\n",
    "        batch_size = min(self.batch_size, len(self.memory))\n",
    "        ids = np.random.randint(0, len(self.memory), size=batch_size)\n",
    "\n",
    "        s0 = []\n",
    "        a = []\n",
    "        r = []\n",
    "        s1 = []\n",
    "        t = []\n",
    "        \n",
    "        for id in ids:\n",
    "            s0.append(self.memory[id][0])\n",
    "            a.append (self.memory[id][1])\n",
    "            r.append (self.memory[id][2])\n",
    "            s1.append(self.memory[id][3])\n",
    "            t.append (self.memory[id][4])\n",
    "        \n",
    "        return torch.tensor(s0), torch.tensor(a), torch.tensor(r), torch.tensor(s1), torch.tensor(t)\n",
    "\n",
    "    def add_memory(self, mem):\n",
    "        self.memory.append(mem)"
   ]
  },
  {
   "cell_type": "code",
   "execution_count": 6,
   "id": "b9b0d025-4328-44f7-a160-1e58b7f4f11b",
   "metadata": {},
   "outputs": [
    {
     "name": "stderr",
     "output_type": "stream",
     "text": [
      "A.L.E: Arcade Learning Environment (version 0.8.1+53f58b7)\n",
      "[Powered by Stella]\n"
     ]
    }
   ],
   "source": [
    "env = gym.make(\"ALE/MarioBros-v5\")\n",
    "obs, _ = env.reset()"
   ]
  },
  {
   "cell_type": "code",
   "execution_count": 7,
   "id": "7c2c1850-15b6-459b-a72b-46fe87721f5a",
   "metadata": {},
   "outputs": [],
   "source": [
    "N = 2000      # Memory buffer capacity\n",
    "GAMMA = 0.999 # Discount rate\n",
    "EPS = 1.0     # Epsilion for eps greedy\n",
    "\n",
    "replay_memory = ReplayMemory(N, 32)\n",
    "\n",
    "in_dim = len(obs)\n",
    "n_layers = 3\n",
    "n_hidden = 256\n",
    "out_dim = env.action_space.n\n",
    "\n",
    "# Initialize the model\n",
    "model = create_q_network(in_dim, n_layers, n_hidden, out_dim)\n",
    "optimizer = optim.Adam(model.parameters(), lr=0.001)"
   ]
  },
  {
   "cell_type": "code",
   "execution_count": 13,
   "id": "9cbf0f9d-f6bb-4981-be1f-eb1d5bfd705a",
   "metadata": {},
   "outputs": [
    {
     "data": {
      "text/plain": [
       "<matplotlib.image.AxesImage at 0x2852aa510>"
      ]
     },
     "execution_count": 13,
     "metadata": {},
     "output_type": "execute_result"
    },
    {
     "data": {
      "image/png": "[encoded data removed]",
      "text/plain": [
       "<Figure size 640x480 with 1 Axes>"
      ]
     },
     "metadata": {},
     "output_type": "display_data"
    }
   ],
   "source": [
    "obs, _ = env.reset()\n",
    "plt.imshow(obs)"
   ]
  },
  {
   "cell_type": "code",
   "execution_count": 8,
   "id": "5f0873e6-39d2-4e6b-aa2e-e32661c88ea7",
   "metadata": {},
   "outputs": [],
   "source": [
    "def train_one_epoch(episodes):\n",
    "    ep_rews = []\n",
    "    global EPS\n",
    "    eps = EPS\n",
    "    \n",
    "    for _ in range(episodes):\n",
    "        obs, _ = env.reset()\n",
    "        obs = torch.tensor(obs)\n",
    "        \n",
    "        ep_rew = 0\n",
    "        done = False\n",
    "        \n",
    "        while not done:\n",
    "            if np.random.random() < eps:\n",
    "                act = env.action_space.sample()\n",
    "            else:\n",
    "                q = model(obs)\n",
    "                act = q.argmax().item()\n",
    "            \n",
    "            new_obs, rew, term, trun, _ = env.step(act)\n",
    "            new_obs = torch.tensor(new_obs)\n",
    "            done = term or trun\n",
    "            replay_memory.add_memory((obs.tolist(), act, rew, new_obs.tolist(), done))\n",
    "            obs = new_obs\n",
    "            \n",
    "            s0, a, r, s1, t = replay_memory.sample()\n",
    "        \n",
    "            y_hat = model(s0)[range(len(s0)), a]\n",
    "            y     = r + model(s1).max(dim=1).values * ~t\n",
    "        \n",
    "            optimizer.zero_grad()\n",
    "            loss = ((y - y_hat)**2).mean()\n",
    "            loss.backward()\n",
    "            optimizer.step()\n",
    "            \n",
    "            ep_rew += rew\n",
    "        \n",
    "            eps = max(eps - 0.01, 0.1)\n",
    "        \n",
    "        ep_rews.append(ep_rew)\n",
    "    \n",
    "    return ep_rews"
   ]
  },
  {
   "cell_type": "code",
   "execution_count": 9,
   "id": "7e1f7fb7-f777-471e-8884-944dcad408c7",
   "metadata": {},
   "outputs": [
    {
     "ename": "RuntimeError",
     "evalue": "mat1 and mat2 shapes cannot be multiplied (33600x3 and 210x256)",
     "output_type": "error",
     "traceback": [
      "\u001b[0;31m---------------------------------------------------------------------------\u001b[0m",
      "\u001b[0;31mRuntimeError\u001b[0m                              Traceback (most recent call last)",
      "Cell \u001b[0;32mIn[9], line 1\u001b[0m\n\u001b[0;32m----> 1\u001b[0m ep_rews \u001b[38;5;241m=\u001b[39m \u001b[43mtrain_one_epoch\u001b[49m\u001b[43m(\u001b[49m\u001b[38;5;241;43m100\u001b[39;49m\u001b[43m)\u001b[49m\n\u001b[1;32m      2\u001b[0m plt\u001b[38;5;241m.\u001b[39mplot(ep_rews)\n\u001b[1;32m      3\u001b[0m plt\u001b[38;5;241m.\u001b[39mshow()\n",
      "Cell \u001b[0;32mIn[8], line 28\u001b[0m, in \u001b[0;36mtrain_one_epoch\u001b[0;34m(episodes)\u001b[0m\n\u001b[1;32m     24\u001b[0m obs \u001b[38;5;241m=\u001b[39m new_obs\n\u001b[1;32m     26\u001b[0m s0, a, r, s1, t \u001b[38;5;241m=\u001b[39m replay_memory\u001b[38;5;241m.\u001b[39msample()\n\u001b[0;32m---> 28\u001b[0m y_hat \u001b[38;5;241m=\u001b[39m \u001b[43mmodel\u001b[49m\u001b[43m(\u001b[49m\u001b[43ms0\u001b[49m\u001b[43m)\u001b[49m[\u001b[38;5;28mrange\u001b[39m(\u001b[38;5;28mlen\u001b[39m(s0)), a]\n\u001b[1;32m     29\u001b[0m y     \u001b[38;5;241m=\u001b[39m r \u001b[38;5;241m+\u001b[39m model(s1)\u001b[38;5;241m.\u001b[39mmax(dim\u001b[38;5;241m=\u001b[39m\u001b[38;5;241m1\u001b[39m)\u001b[38;5;241m.\u001b[39mvalues \u001b[38;5;241m*\u001b[39m \u001b[38;5;241m~\u001b[39mt\n\u001b[1;32m     31\u001b[0m optimizer\u001b[38;5;241m.\u001b[39mzero_grad()\n",
      "File \u001b[0;32m/opt/homebrew/lib/python3.11/site-packages/torch/nn/modules/module.py:1501\u001b[0m, in \u001b[0;36mModule._call_impl\u001b[0;34m(self, *args, **kwargs)\u001b[0m\n\u001b[1;32m   1496\u001b[0m \u001b[38;5;66;03m# If we don't have any hooks, we want to skip the rest of the logic in\u001b[39;00m\n\u001b[1;32m   1497\u001b[0m \u001b[38;5;66;03m# this function, and just call forward.\u001b[39;00m\n\u001b[1;32m   1498\u001b[0m \u001b[38;5;28;01mif\u001b[39;00m \u001b[38;5;129;01mnot\u001b[39;00m (\u001b[38;5;28mself\u001b[39m\u001b[38;5;241m.\u001b[39m_backward_hooks \u001b[38;5;129;01mor\u001b[39;00m \u001b[38;5;28mself\u001b[39m\u001b[38;5;241m.\u001b[39m_backward_pre_hooks \u001b[38;5;129;01mor\u001b[39;00m \u001b[38;5;28mself\u001b[39m\u001b[38;5;241m.\u001b[39m_forward_hooks \u001b[38;5;129;01mor\u001b[39;00m \u001b[38;5;28mself\u001b[39m\u001b[38;5;241m.\u001b[39m_forward_pre_hooks\n\u001b[1;32m   1499\u001b[0m         \u001b[38;5;129;01mor\u001b[39;00m _global_backward_pre_hooks \u001b[38;5;129;01mor\u001b[39;00m _global_backward_hooks\n\u001b[1;32m   1500\u001b[0m         \u001b[38;5;129;01mor\u001b[39;00m _global_forward_hooks \u001b[38;5;129;01mor\u001b[39;00m _global_forward_pre_hooks):\n\u001b[0;32m-> 1501\u001b[0m     \u001b[38;5;28;01mreturn\u001b[39;00m \u001b[43mforward_call\u001b[49m\u001b[43m(\u001b[49m\u001b[38;5;241;43m*\u001b[39;49m\u001b[43margs\u001b[49m\u001b[43m,\u001b[49m\u001b[43m \u001b[49m\u001b[38;5;241;43m*\u001b[39;49m\u001b[38;5;241;43m*\u001b[39;49m\u001b[43mkwargs\u001b[49m\u001b[43m)\u001b[49m\n\u001b[1;32m   1502\u001b[0m \u001b[38;5;66;03m# Do not call functions when jit is used\u001b[39;00m\n\u001b[1;32m   1503\u001b[0m full_backward_hooks, non_full_backward_hooks \u001b[38;5;241m=\u001b[39m [], []\n",
      "File \u001b[0;32m/opt/homebrew/lib/python3.11/site-packages/torch/nn/modules/container.py:217\u001b[0m, in \u001b[0;36mSequential.forward\u001b[0;34m(self, input)\u001b[0m\n\u001b[1;32m    215\u001b[0m \u001b[38;5;28;01mdef\u001b[39;00m \u001b[38;5;21mforward\u001b[39m(\u001b[38;5;28mself\u001b[39m, \u001b[38;5;28minput\u001b[39m):\n\u001b[1;32m    216\u001b[0m     \u001b[38;5;28;01mfor\u001b[39;00m module \u001b[38;5;129;01min\u001b[39;00m \u001b[38;5;28mself\u001b[39m:\n\u001b[0;32m--> 217\u001b[0m         \u001b[38;5;28minput\u001b[39m \u001b[38;5;241m=\u001b[39m \u001b[43mmodule\u001b[49m\u001b[43m(\u001b[49m\u001b[38;5;28;43minput\u001b[39;49m\u001b[43m)\u001b[49m\n\u001b[1;32m    218\u001b[0m     \u001b[38;5;28;01mreturn\u001b[39;00m \u001b[38;5;28minput\u001b[39m\n",
      "File \u001b[0;32m/opt/homebrew/lib/python3.11/site-packages/torch/nn/modules/module.py:1501\u001b[0m, in \u001b[0;36mModule._call_impl\u001b[0;34m(self, *args, **kwargs)\u001b[0m\n\u001b[1;32m   1496\u001b[0m \u001b[38;5;66;03m# If we don't have any hooks, we want to skip the rest of the logic in\u001b[39;00m\n\u001b[1;32m   1497\u001b[0m \u001b[38;5;66;03m# this function, and just call forward.\u001b[39;00m\n\u001b[1;32m   1498\u001b[0m \u001b[38;5;28;01mif\u001b[39;00m \u001b[38;5;129;01mnot\u001b[39;00m (\u001b[38;5;28mself\u001b[39m\u001b[38;5;241m.\u001b[39m_backward_hooks \u001b[38;5;129;01mor\u001b[39;00m \u001b[38;5;28mself\u001b[39m\u001b[38;5;241m.\u001b[39m_backward_pre_hooks \u001b[38;5;129;01mor\u001b[39;00m \u001b[38;5;28mself\u001b[39m\u001b[38;5;241m.\u001b[39m_forward_hooks \u001b[38;5;129;01mor\u001b[39;00m \u001b[38;5;28mself\u001b[39m\u001b[38;5;241m.\u001b[39m_forward_pre_hooks\n\u001b[1;32m   1499\u001b[0m         \u001b[38;5;129;01mor\u001b[39;00m _global_backward_pre_hooks \u001b[38;5;129;01mor\u001b[39;00m _global_backward_hooks\n\u001b[1;32m   1500\u001b[0m         \u001b[38;5;129;01mor\u001b[39;00m _global_forward_hooks \u001b[38;5;129;01mor\u001b[39;00m _global_forward_pre_hooks):\n\u001b[0;32m-> 1501\u001b[0m     \u001b[38;5;28;01mreturn\u001b[39;00m \u001b[43mforward_call\u001b[49m\u001b[43m(\u001b[49m\u001b[38;5;241;43m*\u001b[39;49m\u001b[43margs\u001b[49m\u001b[43m,\u001b[49m\u001b[43m \u001b[49m\u001b[38;5;241;43m*\u001b[39;49m\u001b[38;5;241;43m*\u001b[39;49m\u001b[43mkwargs\u001b[49m\u001b[43m)\u001b[49m\n\u001b[1;32m   1502\u001b[0m \u001b[38;5;66;03m# Do not call functions when jit is used\u001b[39;00m\n\u001b[1;32m   1503\u001b[0m full_backward_hooks, non_full_backward_hooks \u001b[38;5;241m=\u001b[39m [], []\n",
      "File \u001b[0;32m/opt/homebrew/lib/python3.11/site-packages/torch/nn/modules/linear.py:114\u001b[0m, in \u001b[0;36mLinear.forward\u001b[0;34m(self, input)\u001b[0m\n\u001b[1;32m    113\u001b[0m \u001b[38;5;28;01mdef\u001b[39;00m \u001b[38;5;21mforward\u001b[39m(\u001b[38;5;28mself\u001b[39m, \u001b[38;5;28minput\u001b[39m: Tensor) \u001b[38;5;241m-\u001b[39m\u001b[38;5;241m>\u001b[39m Tensor:\n\u001b[0;32m--> 114\u001b[0m     \u001b[38;5;28;01mreturn\u001b[39;00m \u001b[43mF\u001b[49m\u001b[38;5;241;43m.\u001b[39;49m\u001b[43mlinear\u001b[49m\u001b[43m(\u001b[49m\u001b[38;5;28;43minput\u001b[39;49m\u001b[43m,\u001b[49m\u001b[43m \u001b[49m\u001b[38;5;28;43mself\u001b[39;49m\u001b[38;5;241;43m.\u001b[39;49m\u001b[43mweight\u001b[49m\u001b[43m,\u001b[49m\u001b[43m \u001b[49m\u001b[38;5;28;43mself\u001b[39;49m\u001b[38;5;241;43m.\u001b[39;49m\u001b[43mbias\u001b[49m\u001b[43m)\u001b[49m\n",
      "\u001b[0;31mRuntimeError\u001b[0m: mat1 and mat2 shapes cannot be multiplied (33600x3 and 210x256)"
     ]
    }
   ],
   "source": [
    "ep_rews = train_one_epoch(100)\n",
    "plt.plot(ep_rews)\n",
    "plt.show()\n",
    "plt.hist(ep_rews, bins=20)"
   ]
  },
  {
   "cell_type": "code",
   "execution_count": 36,
   "id": "671a08fa-8022-4cb0-b8f9-b9859bc9bb06",
   "metadata": {},
   "outputs": [
    {
     "name": "stdout",
     "output_type": "stream",
     "text": [
      "61.999960069683766\n",
      "21.165730686004935\n",
      "275.5712503946148\n",
      "294.51690655110485\n",
      "-20.76503447709983\n"
     ]
    }
   ],
   "source": [
    "env = gym.make(\"LunarLander-v2\", render_mode='human')\n",
    "\n",
    "for _ in range(5):\n",
    "    done = False\n",
    "    ep = 0\n",
    "    obs, _ = env.reset()\n",
    "    while not done:\n",
    "        act = model(torch.tensor(obs)).argmax().item()\n",
    "        obs, r, term, trun, _ = env.step(act)\n",
    "        done = term or trun\n",
    "        env.render()\n",
    "        ep += r\n",
    "    print(ep)\n",
    "env.close()"
   ]
  },
  {
   "cell_type": "code",
   "execution_count": null,
   "id": "004182f4-e6c6-4fda-bccc-5378214fc05e",
   "metadata": {},
   "outputs": [],
   "source": []
  },
  {
   "cell_type": "code",
   "execution_count": null,
   "id": "a1b9b64f-b0ec-44b4-8016-12d909ad9daf",
   "metadata": {},
   "outputs": [],
   "source": [
    "ep_rews = []\n",
    "\n",
    "for _ in range(200):\n",
    "    done = False\n",
    "    env.reset()\n",
    "    ep = 0\n",
    "    while not done:\n",
    "        _, rew, done, _, _ = env.step(env.action_space.sample())\n",
    "        ep += rew\n",
    "    ep_rews.append(ep)\n",
    "\n",
    "plt.plot(ep_rews)\n",
    "plt.show()\n",
    "plt.hist(ep_rews)"
   ]
  }
 ],
 "metadata": {
  "kernelspec": {
   "display_name": "Python 3 (ipykernel)",
   "language": "python",
   "name": "python3"
  },
  "language_info": {
   "codemirror_mode": {
    "name": "ipython",
    "version": 3
   },
   "file_extension": ".py",
   "mimetype": "text/x-python",
   "name": "python",
   "nbconvert_exporter": "python",
   "pygments_lexer": "ipython3",
   "version": "3.12.2"
  }
 },
 "nbformat": 4,
 "nbformat_minor": 5
}
